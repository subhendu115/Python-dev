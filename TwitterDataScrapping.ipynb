{
  "nbformat": 4,
  "nbformat_minor": 0,
  "metadata": {
    "kernelspec": {
      "display_name": "Python 3",
      "language": "python",
      "name": "python3"
    },
    "language_info": {
      "codemirror_mode": {
        "name": "ipython",
        "version": 3
      },
      "file_extension": ".py",
      "mimetype": "text/x-python",
      "name": "python",
      "nbconvert_exporter": "python",
      "pygments_lexer": "ipython3",
      "version": "3.5.7"
    },
    "colab": {
      "name": "TwitterDataScrapping.ipynb",
      "provenance": [],
      "collapsed_sections": [],
      "include_colab_link": true
    }
  },
  "cells": [
    {
      "cell_type": "markdown",
      "metadata": {
        "id": "view-in-github",
        "colab_type": "text"
      },
      "source": [
        "<a href=\"https://colab.research.google.com/github/subhendu115/Python-dev/blob/master/TwitterDataScrapping.ipynb\" target=\"_parent\"><img src=\"https://colab.research.google.com/assets/colab-badge.svg\" alt=\"Open In Colab\"/></a>"
      ]
    },
    {
      "cell_type": "code",
      "metadata": {
        "id": "ZQfCPQLDBE5K",
        "colab_type": "code",
        "colab": {}
      },
      "source": [
        "import tweepy\n",
        "import csv\n",
        "import pandas as pd\n",
        "import time\n",
        "import os"
      ],
      "execution_count": 0,
      "outputs": []
    },
    {
      "cell_type": "code",
      "metadata": {
        "id": "0z5TYKdeBE5p",
        "colab_type": "code",
        "colab": {}
      },
      "source": [
        "def authenticate_user():\n",
        "    consumer_key = 'XXXXXXXX'\n",
        "    consumer_secret = 'XXXXXXXX'\n",
        "    access_token = 'XXXXXXXXX'\n",
        "    access_token_secret = 'XXXXXXXXX'\n",
        "    auth = tweepy.OAuthHandler(consumer_key, consumer_secret)\n",
        "    auth.set_access_token(access_token, access_token_secret)\n",
        "    api = tweepy.API(auth)\n",
        "    return api"
      ],
      "execution_count": 0,
      "outputs": []
    },
    {
      "cell_type": "code",
      "metadata": {
        "id": "gFU1Cd8jBE5_",
        "colab_type": "code",
        "colab": {}
      },
      "source": [
        "def _extractTweet(api,filePath,hashTag,tweetCount,SinceDate):\n",
        "    if os.path.exists(filePath) == True:\n",
        "        csvFile = open(filePath, 'a')\n",
        "    else:\n",
        "        csvFile = open(filePath, 'w')\n",
        "      \n",
        "    count=1\n",
        "    csvWriter = csv.writer(csvFile)\n",
        "    #filters retweet\n",
        "    #for tweet in tweepy.Cursor(api.search,q=hashTag+'-filter:retweets',lang=\"en\",since=SinceDate,tweet_mode='extended').items(tweetCount):\n",
        "    #without retweet filter\n",
        "    #Important link - https://developer.twitter.com/en/docs/tweets/rules-and-filtering/overview/standard-operators\n",
        "    for tweet in tweepy.Cursor(api.search,q=hashTag,lang=\"en\",since=SinceDate,tweet_mode='extended').items(tweetCount):\n",
        "        if tweet.retweeted==False and 'RT @' not in tweet.full_text:\n",
        "            cleantweet=cleanTweet(tweet)\n",
        "            print (tweet.created_at, tweet.full_text)\n",
        "            csvWriter.writerow([count,tweet.created_at,tweet.user.screen_name,str(cleantweet)])\n",
        "            count=count+1"
      ],
      "execution_count": 0,
      "outputs": []
    },
    {
      "cell_type": "code",
      "metadata": {
        "id": "t8S9xh5vBE6U",
        "colab_type": "code",
        "colab": {}
      },
      "source": [
        "def cleanTweet(tweet):\n",
        "    string=tweet.full_text.encode('utf-8')\n",
        "    #clean hashtag\n",
        "    for htg in tweet.entities['hashtags']:\n",
        "        word=htg['text']\n",
        "        word=\"#\"+word\n",
        "        string=string.replace(bytes(word,'utf-8'),bytes('','utf-8'))\n",
        "    #clean urls   \n",
        "    for urll in tweet.entities['urls']:\n",
        "        t_url=urll['url']\n",
        "        string=string.replace(bytes(t_url,'utf-8'),bytes('','utf-8'))\n",
        "    #clean tagged user\t\n",
        "    for usrr in tweet.entities['user_mentions']:\n",
        "        t_usr=usrr['screen_name']\n",
        "        t_usr=\"@\"+t_usr\n",
        "        string=string.replace(bytes(t_usr,'utf-8'),bytes('','utf-8'))\n",
        "    string=string.replace(bytes(\"b'\",'utf-8'),bytes('','utf-8'),1)\n",
        "    #string=string.replace(bytes('RT :','utf-8'),bytes('','utf-8'))\n",
        "    return string"
      ],
      "execution_count": 0,
      "outputs": []
    },
    {
      "cell_type": "code",
      "metadata": {
        "id": "1xM9GBAfBE6l",
        "colab_type": "code",
        "colab": {
          "base_uri": "https://localhost:8080/",
          "height": 1000
        },
        "outputId": "d445f670-e2ef-4575-de23-62a9a4476995"
      },
      "source": [
        "hashTag=input(\"Hash Tag:\")\n",
        "hashTag='#'+hashTag\n",
        "tweetCount=int(input(\"How many tweets:\"))\n",
        "sinceDate=input(\"Since when(YYYY-MM-DD):\")\n",
        "filePath=input(\"File path (Optional[ENTR]):\")\n",
        "api=authenticate_user()\n",
        "if filePath == None:\n",
        "  filePath='TwitterData'+str(time.time())+'.csv'\n",
        "\n",
        "print('File:'+filePath+'\\n')\n",
        "_extractTweet(api,filePath,hashTag,tweetCount,sinceDate)"
      ],
      "execution_count": 7,
      "outputs": [
        {
          "output_type": "stream",
          "text": [
            "Hash Tag:election\n",
            "How many tweets:200\n",
            "Since when(YYYY-MM-DD):2019-01-01\n",
            "File path (Optional[ENTR]):colabtweet\n",
            "File:colabtweet\n",
            "\n",
            "2020-02-09 12:54:18 @Out5p0ken @glennkirschner2 If we learned anything from the 2016 #election and #Brexit is that we should not take anything for granted!\n",
            "\n",
            "There was complacencies on both sides of the Atlantic ☹️\n",
            "\n",
            "#Resist #Resistance\n",
            "2020-02-09 12:50:47 #Election campaigns..have been run by the #PR industry..with increasing sophistication..(it) uses the same technique to sell candidates it uses to sell #toothpaste..The point is to undermine markets by projecting imagery to delude..and..to undermine #democracy by the same method. https://t.co/7XUFSdtmtg\n",
            "2020-02-09 12:43:29 #Fakenews @cnn implicitly admits #election interference by #Democrats. A #SpecialCounsel should investigate\n",
            "\n",
            "#MAGA #ImpeachmentHoax #ImpeachmentSham\n",
            "@SenateGOP @HouseGOP\n",
            "#Obama @CNN @nytimes @ABC @CBSNews @washingtonpost @MSNBC #metoo #Trump #preppers #2A\n",
            "https://t.co/fwhY7c2Hux\n",
            "2020-02-09 12:40:41 @chetan_bhagat #Difference between #Modi &amp; #Kejriwal #Modi never stoop to #freebies model to win #Education. Due to #CAA there was a #huge pressure on #Modi to win #DelhiElection, #Modi could have given #Freebies in #Budget but he did not, He puts #Nation above #Election lets that sync in\n",
            "2020-02-09 12:36:52 This absolutely crosses the line for me. #Iranian “activist” calling for harassment of those who vote in the upcoming #election. Tens of millions voted last election. https://t.co/qsBr80xWFC\n",
            "2020-02-09 12:36:48 @Ocionnaith hearing news that #KatherineZappone might lose her seat, is this true? God this #Election is certainly a #PoliticalExplosion\n",
            "2020-02-09 11:49:31 #election commission of India...why not declared proper voting percentage of Delhi election officially..... disgusting\n",
            "2020-02-09 11:43:47 https://t.co/ShSPpgZJzg\n",
            "\n",
            "https://t.co/eRXFnd3BqE\n",
            "\n",
            "FLOWER - SHOW - 2019 - JAMSHEDPUR - BY - EVEWIN - LAKRA - PART - 1 - YOUTUBE - VIDEO\n",
            "\n",
            "#FLOWER - #SHOW - #2019 - #JAMSHEDPUR - BY - #EVEWIN - #LAKRA - #PART - 1 - #YOUTUBE - #VIDEO\n",
            "\n",
            "#ELECTION #2019 #RESULT\n",
            "#JMM #WON\n",
            "2020-02-09 11:41:26 It’s been over three years of Trump and his only real accomplishment has been increasing Trump Org accounts receivables from government entities. #Truth #Election\n",
            "2020-02-09 11:38:48 Imo election: Ohanaeze throws its weight behind Uzodinma  #Election #Imo #ohanaeze #Uzodinma https://t.co/YWbq0AFoYb\n",
            "2020-02-09 11:33:11 dems #reaction to trump winning the 2016 #election https://t.co/K0jQQVCObp via @YouTube\n",
            "2020-02-09 11:22:06 @ECISVEEP \n",
            "\n",
            "#election #commission of #India is led by fools who are destroying #democracy (whatever is left of it in this world) and being #shame to #India and taking Indian pride to gutter level around the globe. https://t.co/g19au44HVS\n",
            "2020-02-09 11:18:02 #Ireland general #election: #SinnFéin surges to 22% in #exitpoll https://t.co/WUFP7dHrLx #FineGael #LeoVaradkar #FiannaFail #politics via @guardiannews\n",
            "2020-02-09 11:06:45 If there are to be no #PresidentialDebates How is our #Election process supposed to work? @SpeakerPelosi @RepJerryNadler @DNC @HouseDemocrats @SenateDems @TheDemCoalition  @HardballChris @Lawrence @maddow @AC360 @gtconway3d @BillKristol @jheil @PhilipRucker @chrislhayes @MSNBC\n",
            "2020-02-09 11:02:21 #Cameroun has NEVER BEEN a #Democracy &amp; has NEVER CONDUCTED a #Democratic #Election🗳.\n",
            "For more info abt #elections in🇨🇲,kindly liaise with ur  PREDECESSORS\n",
            "#WilliamQuantrill\n",
            "#NicholasMcCarthy\n",
            "#RichardWildash\n",
            "#BharatJoshi\n",
            "Was the #Présidentielle2018 without pressure/intimidation? https://t.co/3tALPezugi\n",
            "2020-02-09 10:52:29 Head of the #CIS #observer mission Viktor Guminsky: The #Azerbaijani Central #Election Commission (CEC) has carried out a great job for the elections to be open, organized and democratic \n",
            "#parliament2020 #seçki2020 #sechkiler2020 #parlament2020  #azelections #azvote #vote2020 https://t.co/ZHPLUJOo2u\n",
            "2020-02-09 10:47:28 Today's date,Democracy means not only voting people should have free right to choose their candidate.\n",
            "And now I don't think so people get  their rights #ncr #CAA #voting #EVMs #AAP #Election #Trending #BJP\n",
            "2020-02-09 10:45:56 #Azerbaijan holds a snap parliamentary #election https://t.co/YqRKnFZ4VT https://t.co/mJAUbyoZ7P\n",
            "2020-02-09 10:45:00 In a surprising twist, #election officials find a male candidate being elected as the village panchayat ward member in a ward #reserved for women in Karur. #TamilNadu #localbodyelections\n",
            "\n",
            "https://t.co/Y7VLIMQJrr\n",
            "2020-02-09 10:43:00 Three parties neck-and-neck as #counting begins in #Ireland #election\n",
            "#vote #Varadkar #Dublin  https://t.co/xfzWxsaDND\n",
            "2020-02-09 10:38:27 @DonaldJTrumpJr @realDonaldTrump D Trump Jr - #Money #Laundering - #Deutsche Bank with #Russian money. #NYT\n",
            "\n",
            "#Manafort - 2016 #election - #Flynn &amp; #Cohen (now #Giuliani)\n",
            "\n",
            "@GOP @SenateGOP @HouseGOP\n",
            "2020-02-09 10:37:17 2020 Delhi Legislative Assembly election | APP   BJP  INC  || RESULT || ... https://t.co/1fQMP24mux via @YouTube\n",
            "\n",
            "#DELHI    #ELECTION  #DELHIELECTION     #INDIA\n",
            "2020-02-09 10:28:17 #Hawaii #election \n",
            "Ballots by mail: One less barrier to participation\n",
            "\n",
            "https://t.co/4A7k3uFVS4\n",
            "2020-02-09 10:27:08 BREAKING #Election2020: Counting of votes underway across country.\n",
            "It’d be great if Fianna Fáil gets back into power! To be fair, they haven’t screwed the country over for about 10 years, so ... eh ... it must be their turn again. 🤔🙄😢\n",
            "#GE2020 #poll #count #election\n",
            "2020-02-09 10:26:36 Every #Election has proved that all so called Psephologist like #cvoter #Chankya is false\n",
            "On 11 Feb it will be true for all Psephologists are idiot🤣\n",
            "Terrorist #BJP will make govt in #Delhi\n",
            "Because @ArvindKejriwal is not more powerful terrorist than @narendramodi @AmitShah 😂\n",
            "2020-02-09 10:11:56 Shouldn't jobs over freebies and ballot over bullets be prioritized!\n",
            "#election #INDIA\n",
            "2020-02-09 10:07:24 I must admit #Kejriwal is a true #politician!\n",
            "#kejriwalexposed #politics #Modi #VoteThemOut2020 #Vote4BJP #DelhiElection #DelhiElections #DelhiWithBJP #Election2020 #DelhiWithModi #Delhi #Election https://t.co/Wd3l1JJ8ft\n",
            "2020-02-09 10:03:24 - #Facebook removes account of gunman in Thai shooting\n",
            "\n",
            "- Simplifying #UK visa and immigration rules would save £70m\n",
            "\n",
            "- #Finland to give dads same parental leave as mums\n",
            "\n",
            "- Irish general election: Polls open for first-ever Saturday general #election vote\n",
            "2020-02-09 10:00:02 FutureDanger Indicator: ELECTIONS are STOLEN\n",
            "HeatMap Column 1&gt; https://t.co/m1N8BAZqkg\n",
            " #Voting #Election #VoteRigging #VoterFraud https://t.co/YeXzK70Ddk\n",
            "2020-02-09 09:52:21 If #ExitPolls are accurate, brand BJP needs a refresh. Successive state #election losses show Economic issues replacing diff versions of Balakot, #RamMandir, #Article370  &amp; #CAA_NRC_NPR . Will common sense or ego prevail with party strategists? #DelhiElections2020 #DelhiPolls2020\n",
            "2020-02-09 09:29:01 #election Empowering encyclopedia site:Media or #WikiLeaks will be a winner in #election2016 https://t.co/VeHTnwIfFJ https://t.co/CwzAwY2GPG\n",
            "2020-02-09 09:24:08 @mtracey What about renaming the #US from the Beacon of #Democracy (long time defunct) to the Beacon of #Election Rigging?\n",
            "2020-02-09 09:23:08 #Democrats on #edge after #2020 #election season’s ragged launch https://t.co/fuEjLQv5JB\n",
            "2020-02-09 09:12:05 There’s always at least one politician on Election Day who is half pissed by about 4pm when they end up being interviewed live on TV.\n",
            "\n",
            "Whose it gonna be this year? 😂\n",
            "\n",
            "#ge2020 #GeneralElection2020 #Count #election #ExitPolls # https://t.co/kjclP55YFa\n",
            "2020-02-09 09:11:46 The 2020 Presidential #Election Really is Different https://t.co/PJQ0PtZTJI \"Each quadrennial contest has featured a pair of establishment figures who are barely different from each other\"\n",
            "2020-02-09 09:09:39 #azelections #azvote2020  Member of the #observation mission of the #OSCE #ODIHR,  Michelle Stephanie: \"I have made observations at some polling stations and the #election process is being conducted in line with #European standards\" #Azerbaijan https://t.co/TP2GaaV2xv\n",
            "2020-02-09 08:48:49 Why Is This Happening? Explaining why Reality Winner is still in prison with Kerry Howley https://t.co/j1HNPDcDB8 via @NBCNewsTHINK #securitystate #RealityWinner #NSA #election #electionhacking #ElectionInterference #coverup #democracy #whistleblower #resist\n",
            "2020-02-09 08:27:48 @ArvindKejriwal @msisodia @AamAadmiParty @ECISVEEP\n",
            "Voters turnout is only 60% because many people had to go work in Delhi. I have met many people in the queue who were saying they work in Delhi &amp; have to go to work. This needs to be stopped. #Election #DelhiAssemblyPolls\n",
            "2020-02-09 08:23:22 RT How Can We Make Election Technology Secure? https://t.co/bLdId2oef4 #Iowa #election #security by  TrustPhi's Ari Singer\n",
            "2020-02-09 08:18:11 RT AmericanLegion : We advocate for all U.S. citizens to register/vote in all elections. Since 1920 our #GetOutTheVote program has encouraged Americans to exercise their right to vote &amp; help others understand the electoral process's importance. https://t.co/ShNwSyMb7N #Election…\n",
            "2020-02-09 08:14:01 The fact that aspersions are cast on #EVMs in every election, points to a deep sense of mistrust in the #election process. @CeodelhiOffice  #DelhiExitPolls\n",
            "2020-02-09 08:07:12 $Crypto #exchange FTX_Official plans to launch #futures trading on 5 more 2020 #election candidates, including $BERNIE and $BIDEN, benjaminpirus reports https://t.co/XI4SvJ6HG4\n",
            "2020-02-09 08:03:14 $Crypto #exchange FTX_Official plans to launch #futures trading on 5 more 2020 #election candidates, including $BERNIE and $BIDEN, benjaminpirus reports https://t.co/0K2Jna2BJN $BTC $ETH $XRP $BNB\n",
            "2020-02-09 08:00:30 Das wird eine mühsame Partie in Irland. \"On the basis of the latest poll, there is no obvious path to a stable government\" \n",
            "https://t.co/sqHuNSPUCN #Election #Ireland https://t.co/jGnHx9K4Ti\n",
            "2020-02-09 07:48:32 $Crypto #exchange @FTX_Official plans to launch #futures trading on 5 more 2020 #election candidates, including $BERNIE and $BIDEN, @benjaminpirus reports https://t.co/26gpLDTP8o\n",
            "2020-02-09 07:32:21 @LeahHardingAJE Heavily armed Cameroun 🇨🇲 military sent to kill during #election day. https://t.co/Wuqmj7RuLQ\n",
            "2020-02-09 07:24:30 Giuliani: I can't sit by and watch my country be sold out...\n",
            "https://t.co/P7TNIoEoNP\n",
            "#BarackObama #Burisma #China #Collusion #Democrats #Drugs #Election #FBI #GeorgeSoros #HillaryClinton #HunterBiden #ImpeachmentTrial #Iraq #JoeBiden #RudyGiuliani #Trump #Ukraine #WhistleBlower https://t.co/yhCOXTczh5\n",
            "2020-02-09 07:12:07 The Democrats &amp; Iowa – Biden is really out of the Game #Democrats #Politics #PoliticalCycles #Election #Trump https://t.co/KVxIG1EALM https://t.co/IuKavKBxDu\n",
            "2020-02-09 06:31:36 #Leadership is not about the #election \n",
            "It is #about the next #generation https://t.co/bUSBPss5s5\n",
            "2020-02-09 06:26:04 #VotingRights 3 civilizations 1 book site:#Election can be funny #Voters aren't intelligent https://t.co/mg0jk9kAWD  https://t.co/9JMGxRHG1L\n",
            "2020-02-09 06:11:02 #election Knowledge is power site:Will #RSS check BJPs #venality &amp; make #India 1 party state https://t.co/ZQPLtq5i4F https://t.co/BgC6Gujuyn\n",
            "2020-02-09 06:06:20 @JerzeyProud @JWSNMNJ @DerosaTn @ConlonTisch @PresidentJFKdy @RiderUniversity @RebovichInst @GOP @GOPLeader @NJGOP @senatenj @RNC @SenateGOP @SenateFloor @RNCResearch @DSteinhardtEsq @senatemajldr @RikMehta_NJ @HirshSingh @StuartMeissner @NewDayForNJ Me too\n",
            "I like the face to face too\n",
            "\n",
            "That's why a #NJDEBATE #DEBATENJ\n",
            "IS GOOD FOR NJ #VOTERS TO GET TO KNOW THE #CANDIDATES\n",
            "\n",
            "BREAK 💥 38YR 💥 #BLUEWALL\n",
            "TIME TO ELECT NJ. #REPUBLICAN SENATOR\n",
            "1982 IS A LONG TIME W/O A #REPRESENTATIVE\n",
            "\n",
            "2020 IS A VITAL #ELECTION 4 NJ https://t.co/nkN4ukqDfN\n"
          ],
          "name": "stdout"
        }
      ]
    },
    {
      "cell_type": "code",
      "metadata": {
        "id": "MLOMyMUYBE65",
        "colab_type": "code",
        "colab": {}
      },
      "source": [
        ""
      ],
      "execution_count": 0,
      "outputs": []
    }
  ]
}